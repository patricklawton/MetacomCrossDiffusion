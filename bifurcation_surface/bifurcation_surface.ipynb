{
 "cells": [
  {
   "cell_type": "code",
   "execution_count": 1,
   "id": "72b97a5c-ffd8-47c1-a9b6-4ca1ebeb7f98",
   "metadata": {},
   "outputs": [],
   "source": [
    "import numpy as np\n",
    "import sympy as sy\n",
    "from IPython.display import display\n",
    "from matplotlib import pyplot as plt\n",
    "from itertools import product\n",
    "import pickle"
   ]
  },
  {
   "cell_type": "markdown",
   "id": "fd72b3c7-e137-4b69-9bd4-12426d43f0a0",
   "metadata": {},
   "source": [
    "#### Define functions and sympy variables"
   ]
  },
  {
   "cell_type": "code",
   "execution_count": 2,
   "id": "25982c27-e6ce-44f0-9a97-cafe80360a90",
   "metadata": {
    "jupyter": {
     "source_hidden": true
    },
    "tags": []
   },
   "outputs": [],
   "source": [
    "def spherical_to_cartesian(ang_coord_sample):\n",
    "    cart_vec = []\n",
    "    for i in range(len(cart_coords)):\n",
    "        if i == 0:\n",
    "            cart_coord = -np.cos(ang_coord_sample[i])\n",
    "        elif i < (len(cart_coords) - 1):\n",
    "            cart_coord = -np.cos(ang_coord_sample[i])\n",
    "            for j in range(i):\n",
    "                cart_coord = np.sin(ang_coord_sample[j]) * cart_coord\n",
    "        else:\n",
    "            cart_coord = -np.sin(ang_coord_sample[i-1])\n",
    "            for j in range(i-1):\n",
    "                cart_coord = np.sin(ang_coord_sample[j]) * cart_coord\n",
    "        if abs(0.0 - cart_coord) < np.finfo(np.float64).eps:\n",
    "            cart_coord = 0.0\n",
    "        cart_vec.append(cart_coord)\n",
    "    return cart_vec\n",
    "\n",
    "def plot_surface(dims, ax_lims=[-5,5], interactive=False, cond='wav', inv_axis=[False,False,False]):\n",
    "    if interactive:\n",
    "        %matplotlib widget\n",
    "    fig = plt.figure(figsize=(6,6))\n",
    "    if dims == 2:\n",
    "        ax = fig.add_subplot()\n",
    "        ax.scatter(J_sub_k[0], J_sub_k[1], c='black')\n",
    "    else:\n",
    "        ax = fig.add_subplot(projection='3d')\n",
    "        ax.scatter(J_sub_k[0], J_sub_k[1], J_sub_k[2], c='black')\n",
    "    x_lams = []\n",
    "    for i in range(len(C_k)):\n",
    "        params = [C_k[i], J_k[i], kappa]\n",
    "        expr = -C_k[i]*kappa + J_k[i]\n",
    "        x_lam = sy.lambdify(params, expr, 'numpy')\n",
    "        x_lams.append(x_lam)\n",
    "    for i in range(len(data[sy.sstr(C_k[0])])):\n",
    "        if cond == 'wav':\n",
    "            condition = np.isnan(data['kappa_cs']['wav'][i]) == False\n",
    "            kappa_cs = np.extract(condition, data['kappa_cs']['wav'][i])\n",
    "            color = 'red'\n",
    "        else:\n",
    "            condition = np.isnan(data['kappa_cs']['st'][i]) == False\n",
    "            kappa_cs = np.extract(condition, data['kappa_cs']['st'][i]) \n",
    "            color = 'blue'\n",
    "        for kappa_c in kappa_cs:\n",
    "            coords = [x_lam(data[sy.sstr(C_k[j])][i], float(J_sub_k[j]), kappa_c) for j, x_lam in enumerate(x_lams)]\n",
    "            ax.scatter(*zip(coords), c=color)\n",
    "    ax.set_xlim(ax_lims[0],ax_lims[1])\n",
    "    ax.set_ylim(ax_lims[0],ax_lims[1])\n",
    "    if dims > 2: ax.set_zlim(ax_lims[0],ax_lims[1])\n",
    "    ax.set_xlabel(M_sub_k[0])\n",
    "    ax.set_ylabel(M_sub_k[1])\n",
    "    if dims > 2: ax.set_zlabel(M_sub_k[2])\n",
    "    if inv_axis[0]: ax.invert_xaxis()\n",
    "    if inv_axis[1]: ax.invert_yaxis()\n",
    "    if dims > 2:\n",
    "        if inv_axis[2]:\n",
    "            ax.invert_zaxis()\n",
    "\n",
    "def store_sample(cond, kappa_arr):\n",
    "    if cond == 'wav':\n",
    "        kappa_arr = kappa_wavs\n",
    "    else:\n",
    "        kappa_arr = kappa_sts\n",
    "    kappa_c_dir = []\n",
    "    for kappa_c in kappa_arr:\n",
    "        if np.isreal(kappa_c) and (kappa_c > 0):\n",
    "            kappa_c_dir.append(kappa_c)\n",
    "        else:\n",
    "            kappa_c_dir.append(np.nan)\n",
    "    if verbose: print('kappa_c_dir', kappa_c_dir)\n",
    "    # Store critical kappas\n",
    "    if cond == 'wav':\n",
    "        data['kappa_cs']['wav'].append(kappa_c_dir)\n",
    "    else:\n",
    "        data['kappa_cs']['st'].append(kappa_c_dir)\n",
    "\n",
    "# Define sympy symbols\n",
    "u, w, v = sy.symbols(\"u w v\")\n",
    "a_u, a_v, a_w, b_u, c_u, c_v, d_v, d_w = sy.symbols(\"a_u a_v a_w b_u c_u c_v d_v d_w\")\n",
    "mu, nu, kappa, lamda = sy.symbols(\"mu nu kappa lamda\")\n",
    "D_u, D_v, D_w = sy.symbols(\"D_u D_v D_w\")\n",
    "J11, J12, J13, J21, J22, J23, J31, J32, J33 = sy.symbols('J11 J12 J13 J21 J22 J23 J31 J32 J33')\n",
    "C11, C12, C13, C21, C22, C23, C31, C32, C33 = sy.symbols('C11 C12 C13 C21 C22 C23 C31 C32 C33')"
   ]
  },
  {
   "cell_type": "markdown",
   "id": "4cda4422-136a-4880-8d50-7a23166b35b4",
   "metadata": {},
   "source": [
    "#### Define model (i.e. J and C) and conditions"
   ]
  },
  {
   "cell_type": "code",
   "execution_count": 3,
   "id": "481d61af-abb2-40df-85a8-5907318ee2eb",
   "metadata": {
    "jupyter": {
     "source_hidden": true
    },
    "tags": []
   },
   "outputs": [
    {
     "data": {
      "text/latex": [
       "$\\displaystyle \\left[\\begin{matrix}- C_{11} \\kappa + 0.471 & -0.813 & 0\\\\5.552 & - C_{22} \\kappa + 0.962 & -0.911\\\\0 & 16.0 & - C_{33} \\kappa - 4.0\\end{matrix}\\right]$"
      ],
      "text/plain": [
       "Matrix([\n",
       "[-C11*kappa + 0.471,             -0.813,                0],\n",
       "[             5.552, -C22*kappa + 0.962,           -0.911],\n",
       "[                 0,               16.0, -C33*kappa - 4.0]])"
      ]
     },
     "metadata": {},
     "output_type": "display_data"
    }
   ],
   "source": [
    "'''Hata example, chain web Holling type II. Theoretically meets wave instabliity \n",
    "   conditions as top predator diffusion rate is increased. '''\n",
    "# Define nonlinear interaction terms\n",
    "f = (a_u - b_u*u - c_u*(w/(u+mu))) * u\n",
    "g = (a_v*(1 - c_v*(v/u)) - d_v*(w/(v+nu))) * v\n",
    "h = (a_w * (1 - d_w*(w/v))) * w\n",
    "\n",
    "# Define parameter values\n",
    "param_vals = [(a_u,3.0), (a_v,6.0), (a_w,4.0), \n",
    "              (b_u,1.0), (c_u,1.0), (c_v,1.0), \n",
    "              (d_v,1.0), (d_w,0.25),\n",
    "              (mu,0.25), (nu,0.25)]\n",
    "\n",
    "# Solve for the uniform steady state\n",
    "'''I get a different steady from Hata 2014, so I just \n",
    "   hardcode in the Jacobian values to J_sub below.'''\n",
    "eq_vec = (sy.Eq(f.subs(param_vals),0), \n",
    "          sy.Eq(g.subs(param_vals),0), \n",
    "          sy.Eq(h.subs(param_vals),0))\n",
    "var_vec = (u, v, w)\n",
    "x0 = (1, 2.5, 10.2)\n",
    "u_0, v_0, w_0 = sy.nsolve(eq_vec, var_vec, x0)\n",
    "\n",
    "# Construct M matrix\n",
    "J = sy.Matrix([[J11, J12, J13], \n",
    "               [J21, J22, J23], \n",
    "               [J31, J32, J33]])\n",
    "# J_star = sy.Matrix([[sy.diff(f, u), sy.diff(f, v), sy.diff(f, w)],\n",
    "#                [sy.diff(g, u), sy.diff(g, v), sy.diff(g, w)],\n",
    "#                [sy.diff(h, u), sy.diff(h, v), sy.diff(h, w)]])\n",
    "# J_sub = J_star.subs(param_vals + [(u, u_0), (v, v_0), (w, w_0)])\n",
    "J_sub = sy.Matrix([[0.471, -0.813, 0.0],\n",
    "                   [5.552, 0.962, -0.911],\n",
    "                   [0.0, 16.0, -4.0]])\n",
    "# J_sub = sy.Matrix([[0.0, 1.0, 1.0],\n",
    "#                 [1.0, 0.0, 1.0],\n",
    "#                [1.0, 1.0, 0.0]])\n",
    "C = sy.Matrix([[C11, 0, 0], \n",
    "               [0, C22, 0], \n",
    "               [0, 0, C33]])\n",
    "M = J_sub - kappa*C\n",
    "M_sub = M\n",
    "display(M)\n",
    "M_star = sy.zeros(3,3)\n",
    "for i,j in product(range(M.shape[0]), repeat=2):\n",
    "    if C[i,j] != 0:\n",
    "        M_star[i,j] = -C[i,j]*kappa\n",
    "    else:\n",
    "        M_star[i,j] = J_sub[i,j]\n",
    "\n",
    "# Characteristic polynomial\n",
    "p = M_star.charpoly(lamda)\n",
    "p_coeffs = p.all_coeffs()\n",
    "\n",
    "# Oscillatory and stationary instability conditions\n",
    "I_wav = p_coeffs[3] - p_coeffs[1]*p_coeffs[2]\n",
    "I_st = p_coeffs[3]\n",
    "\n",
    "# Store spatially dependent elements of C, J, and M\n",
    "C_k, M_sub_k, J_k, J_sub_k = ([],[],[],[])\n",
    "for i in range(C.shape[0]):\n",
    "    for j in range(C.shape[0]):\n",
    "        if C[i,j] != 0:\n",
    "            C_k.append(C[i,j])\n",
    "            M_sub_k.append(M_sub[i,j])\n",
    "            J_k.append(J[i,j])\n",
    "            J_sub_k.append(J_sub[i,j])"
   ]
  },
  {
   "cell_type": "markdown",
   "id": "ed636c3f-9a68-4d11-bf66-d4beb152ec60",
   "metadata": {},
   "source": [
    "#### Sample dispersal parameter space"
   ]
  },
  {
   "cell_type": "code",
   "execution_count": 4,
   "id": "0fd51a13-e495-455d-848c-74c8579e645e",
   "metadata": {
    "jupyter": {
     "source_hidden": true
    },
    "tags": []
   },
   "outputs": [],
   "source": [
    "# Constants\n",
    "verbose = False\n",
    "N_n = 100 #Avg density of samples per 0-pi/2 volume\n",
    "data = {'kappa_cs': {'wav': [], 'st': []}}\n",
    "ang_coords = ['phi_{}'.format(i+1) for i in range(len(C_k)-1)]\n",
    "for ang_coord in ang_coords:\n",
    "    data.update({ang_coord: []})\n",
    "cart_coords = [sy.sstr(C_ij) for C_ij in C_k]\n",
    "for cart_coord in cart_coords:\n",
    "    data.update({cart_coord: []})\n",
    "\n",
    "# Sample n dimensional dispersal parameter space in (n-1) spherical coordinates\n",
    "while len(data[ang_coords[0]]) < (2**len(C_k))*N_n:\n",
    "    ang_coord_sample = []\n",
    "    for i, ang_coord in enumerate(ang_coords):\n",
    "        if i < len(ang_coords) - 1:\n",
    "            phi_range = (0.0, np.pi)\n",
    "        else:\n",
    "            phi_range = (0.0, 2*np.pi)\n",
    "        phi_sample = phi_range[1] * np.random.sample()\n",
    "        ang_coord_sample.append(phi_sample)\n",
    "        if verbose: print('ang_coord_sample', ang_coord_sample)\n",
    "    # Convert spherical to cartesian coordinates\n",
    "    cart_coord_sample = spherical_to_cartesian(ang_coord_sample)\n",
    "    if verbose: print('cart_coord_sample', cart_coord_sample)\n",
    "    # Store directional data\n",
    "    for i, coord in enumerate(cart_coord_sample):\n",
    "        data[cart_coords[i]].append(coord)\n",
    "    for i, coord in enumerate(ang_coord_sample):\n",
    "        data[ang_coords[i]].append(coord)\n",
    "    # Find critical kappa values for this parameterization\n",
    "    kappa_wavs = []\n",
    "    kappa_sts = []\n",
    "    I_wav_sub = I_wav.subs([(C_k[i], cart_coord_sample[i]) for i in range(len(C_k))])\n",
    "    I_st_sub = I_st.subs([(C_k[i], cart_coord_sample[i]) for i in range(len(C_k))])\n",
    "    try:\n",
    "        wav_sols = sy.solveset(I_wav_sub, kappa).args\n",
    "        st_sols = sy.solveset(I_st_sub, kappa).args\n",
    "    except:\n",
    "        print('error at ang_coord_sample {}'.format(ang_coord_sample))\n",
    "        wav_sols, st_sols = ([0.0,0.0,0.0], [0.0,0.0,0.0])\n",
    "    if verbose: print('sols', wav_sols, st_sols)\n",
    "    for sol in wav_sols:\n",
    "        try:\n",
    "            kappa_wavs.append(float(sol))\n",
    "        except:\n",
    "            kappa_wavs.append(complex(sol))\n",
    "    for sol in st_sols:\n",
    "        try:\n",
    "            kappa_sts.append(float(sol))\n",
    "        except:\n",
    "            kappa_sts.append(complex(sol))\n",
    "    store_sample('wav', kappa_wavs)\n",
    "    store_sample('st', kappa_sts)\n",
    "    if verbose: print('------------------------------------------------')\n",
    "\n",
    "# Make vecs for different conditions (Omega)\n",
    "kappa_wavs = data['kappa_cs']['wav']\n",
    "kappa_sts = data['kappa_cs']['st']\n",
    "Omega_wav, Omega_st, Omega_stab = ([], [], [])\n",
    "for i in range(len(kappa_wavs)):\n",
    "    wav_nonan = [val for val in kappa_wavs[i] if not np.isnan(val)]\n",
    "    st_nonan = [val for val in kappa_sts[i] if not np.isnan(val)]\n",
    "    wav = len(wav_nonan) > 0\n",
    "    st = len(st_nonan) > 0\n",
    "    if wav and st:\n",
    "        wav_before_st = min(wav_nonan) < min(st_nonan)\n",
    "        st_before_wav = min(st_nonan) < min(wav_nonan)\n",
    "    else:\n",
    "        wav_before_st = wav\n",
    "        st_before_wav = st\n",
    "    Omega_wav.append(wav_before_st)\n",
    "    Omega_st.append(st_before_wav)\n",
    "    Omega_stab.append((wav == False) and (st == False))\n",
    "# Store data\n",
    "for key, vec in zip(['wav', 'st', 'stab'], \n",
    "                    [Omega_wav, Omega_st, Omega_stab]):\n",
    "    data['omega_integrand/'+key] = np.array(vec)"
   ]
  },
  {
   "cell_type": "code",
   "execution_count": null,
   "id": "cef2a0ff-0556-47be-8d56-b81dcd5999f6",
   "metadata": {
    "jupyter": {
     "source_hidden": true
    },
    "tags": []
   },
   "outputs": [],
   "source": [
    "# plot_surface(len(C_k), cond='st', interactive=True, inv_axis=[True, False, True])\n",
    "# plot_surface(len(C_k), cond='wav', interactive=True, inv_axis=[True, False, True])"
   ]
  },
  {
   "cell_type": "code",
   "execution_count": 5,
   "id": "7986bfd4-c5c5-46a2-95fa-00a1d6e75c7f",
   "metadata": {
    "collapsed": true,
    "jupyter": {
     "outputs_hidden": true,
     "source_hidden": true
    },
    "tags": []
   },
   "outputs": [
    {
     "data": {
      "text/plain": [
       "array([[0.        , 1.        , 0.51960784, 0.94392523],\n",
       "       [0.43956044, 0.98958333, 0.        , 1.        ]])"
      ]
     },
     "execution_count": 5,
     "metadata": {},
     "output_type": "execute_result"
    }
   ],
   "source": [
    "# Approximate fractional surface areas\n",
    "omega_sum = 0.0\n",
    "omega_sec_mat = np.zeros((2,4))\n",
    "for phi_lims in product(range(2), range(4)):\n",
    "    conds = []\n",
    "    for i, lim in enumerate(phi_lims):\n",
    "        conds.append(np.array(data['phi_'+str(i+1)]) > lim*np.pi/2)\n",
    "        conds.append(np.array(data['phi_'+str(i+1)]) < (lim + 1)*np.pi/2)\n",
    "    cond = np.all(conds, axis=0)\n",
    "    omega_integrand_sec = np.array(data['omega_integrand/wav'])[cond] + np.array(data['omega_integrand/st'])[cond]\n",
    "    omega_sec = sum(omega_integrand_sec) / sum(cond)\n",
    "    omega_sec_mat[phi_lims[0], phi_lims[1]] = omega_sec\n",
    "    omega_sum += sum(omega_integrand_sec)\n",
    "omega = omega_sum / len(data['phi_1'])"
   ]
  },
  {
   "cell_type": "code",
   "execution_count": 20,
   "id": "59e97a3b-1df0-4b39-ba5d-065a4446c170",
   "metadata": {
    "jupyter": {
     "source_hidden": true
    },
    "tags": []
   },
   "outputs": [],
   "source": [
    "# Write omega data to file\n",
    "# import h5py\n",
    "# with h5py.File('single_cross_diffusion/shared_data.h5', 'a') as sdf:\n",
    "#     sdf.create_dataset('nocross\\omega_sec_mat', data = omega_sec_mat)\n",
    "#     sdf.create_dataset('nocross\\omega', data=omega)\n",
    "with open('nocross_data.pkl', 'wb') as f:\n",
    "    pickle.dump(data, f)"
   ]
  },
  {
   "cell_type": "markdown",
   "id": "c42d36c8-2ed5-42d4-8a96-ec4d3ba2a612",
   "metadata": {},
   "source": [
    "#### Plot projection on the unit sphere"
   ]
  },
  {
   "cell_type": "code",
   "execution_count": 14,
   "id": "ea4b0200-2ddd-41d6-aae9-cb45aa5e5a78",
   "metadata": {},
   "outputs": [],
   "source": [
    "'''run this cell to load previously run data'''\n",
    "with open('nocross_data.pkl', 'rb') as f:\n",
    "    data = pickle.load(f)"
   ]
  },
  {
   "cell_type": "code",
   "execution_count": 11,
   "id": "e67018cb-9d7a-4fd3-9fd6-c922e3123462",
   "metadata": {},
   "outputs": [],
   "source": [
    "'''run this cell to replace with data from cross diffusion run'''\n",
    "import signac\n",
    "project = signac.get_project('single_cross_diffusion')\n",
    "job = project.open_job({'C_offdiag': (1,2), 'J_i': 0, 'N_n': 100.0})\n",
    "with job.data:\n",
    "    cond = np.array(job.data['C23']) > 0\n",
    "    data['kappa_cs']['wav'] = np.array(job.data['kappa_cs']['wav'])[cond]\n",
    "    data['kappa_cs']['st'] = np.array(job.data['kappa_cs']['st'])[cond]\n",
    "    data[sy.sstr(C_k[0])] = np.array(job.data['C11'])[cond]\n",
    "    data[sy.sstr(C_k[1])] = np.array(job.data['C22'])[cond]\n",
    "    data[sy.sstr(C_k[2])] = np.array(job.data['C33'])[cond]"
   ]
  },
  {
   "cell_type": "code",
   "execution_count": 15,
   "id": "541e3f6a-c4f2-48c5-b94a-07eb7102342a",
   "metadata": {},
   "outputs": [
    {
     "data": {
      "text/plain": [
       "Text(0.5, 0, '-C33*kappa - 4.0')"
      ]
     },
     "execution_count": 15,
     "metadata": {},
     "output_type": "execute_result"
    },
    {
     "data": {
      "image/png": "[encoded data removed]",
      "text/plain": [
       "<Figure size 600x600 with 1 Axes>"
      ]
     },
     "metadata": {},
     "output_type": "display_data"
    }
   ],
   "source": [
    "# %matplotlib widget\n",
    "fig = plt.figure(figsize=(6,6))\n",
    "ax = fig.add_subplot(projection='3d')\n",
    "ax.view_init(6, 12, 0) #elev, azim, roll\n",
    "# ax.view_init(49, -77, 0)\n",
    "# ax.view_init(5, -178, 0)\n",
    "ax.scatter(J_sub_k[0], J_sub_k[1], J_sub_k[2], c='black')\n",
    "x_lams = []\n",
    "for i in range(len(C_k)):\n",
    "    params = [C_k[i], J_k[i]]\n",
    "    expr = -C_k[i]*1.0 + J_k[i]\n",
    "    x_lam = sy.lambdify(params, expr, 'numpy')\n",
    "    x_lams.append(x_lam)\n",
    "for i in range(len(data[sy.sstr(C_k[0])])):\n",
    "    wav_nonan = [val for val in data['kappa_cs']['wav'][i] if not np.isnan(val)]\n",
    "    st_nonan = [val for val in data['kappa_cs']['st'][i] if not np.isnan(val)]\n",
    "    wav = len(wav_nonan) > 0\n",
    "    st = len(st_nonan) > 0\n",
    "    if (len(wav_nonan) > 0) and (len(st_nonan) > 0):\n",
    "        wav_before_st = min(wav_nonan) < min(st_nonan)\n",
    "        st_before_wav = min(st_nonan) < min(wav_nonan)\n",
    "    else:\n",
    "        wav_before_st = wav\n",
    "        st_before_wav = st\n",
    "    # if wav_before_st:\n",
    "    #     coords = [x_lam(data[sy.sstr(C_k[j])][i], float(J_sub_k[j])) for j, x_lam in enumerate(x_lams)]\n",
    "    #     ax.scatter(*zip(coords), c='pink')\n",
    "    # elif st_before_wav:\n",
    "    #     coords = [x_lam(data[sy.sstr(C_k[j])][i], float(J_sub_k[j])) for j, x_lam in enumerate(x_lams)]\n",
    "    #     ax.scatter(*zip(coords), c='cyan')\n",
    "    if (wav == False) and (st == False):\n",
    "        coords = [x_lam(data[sy.sstr(C_k[j])][i], float(J_sub_k[j])) for j, x_lam in enumerate(x_lams)]\n",
    "        ax.scatter(*zip(coords), c='green')\n",
    "ax.set_xlabel(M_sub_k[0])\n",
    "ax.set_ylabel(M_sub_k[1])\n",
    "ax.set_zlabel(M_sub_k[2])"
   ]
  },
  {
   "cell_type": "code",
   "execution_count": 13,
   "id": "ed27b426-cc1a-4593-9bcd-d0a5024c4082",
   "metadata": {},
   "outputs": [],
   "source": [
    "path = '/Volumes/GoogleDrive/My Drive/Research/Anderson/SmallWebProject/figs/'\n",
    "fn = 'volume_C23gt0_side.png'\n",
    "fig.savefig(path + fn)"
   ]
  },
  {
   "cell_type": "code",
   "execution_count": null,
   "id": "9ca08ba4-e179-4f46-b07a-c65ad9811565",
   "metadata": {},
   "outputs": [],
   "source": []
  }
 ],
 "metadata": {
  "kernelspec": {
   "display_name": "Python 3 (ipykernel)",
   "language": "python",
   "name": "python3"
  },
  "language_info": {
   "codemirror_mode": {
    "name": "ipython",
    "version": 3
   },
   "file_extension": ".py",
   "mimetype": "text/x-python",
   "name": "python",
   "nbconvert_exporter": "python",
   "pygments_lexer": "ipython3",
   "version": "3.10.9"
  }
 },
 "nbformat": 4,
 "nbformat_minor": 5
}
