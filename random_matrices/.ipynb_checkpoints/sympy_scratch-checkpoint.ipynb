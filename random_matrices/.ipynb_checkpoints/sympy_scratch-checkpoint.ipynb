{
 "cells": [
  {
   "cell_type": "code",
   "execution_count": 1,
   "id": "f0e27944-b826-478f-af30-733c58310273",
   "metadata": {},
   "outputs": [],
   "source": [
    "import numpy as np\n",
    "import sympy as sy\n",
    "from IPython.display import display\n",
    "import itertools"
   ]
  },
  {
   "cell_type": "code",
   "execution_count": 84,
   "id": "07f658a4-8862-484d-9a88-633d9ee51470",
   "metadata": {},
   "outputs": [],
   "source": [
    "interaction_rules = np.array([\n",
    "                            # Chain motif\n",
    "                            [[-1, -1, 0], [1, 0, -1], [0, 1, 0]]\n",
    "                            ])\n",
    "dispersal_rules = np.array([\n",
    "                            # Only top predator disperses in response to self density\n",
    "                            [[0, 0, 0], [0, 0, 0], [0, 0, 1]],\n",
    "                            # Top & middle predators disperse in response to self density\n",
    "                            [[0, 0, 0], [0, 1, 0], [0, 0, 1]]\n",
    "                            ])"
   ]
  },
  {
   "cell_type": "code",
   "execution_count": 85,
   "id": "bf561ae5-7b1c-4ff0-af56-543b8137523c",
   "metadata": {
    "tags": []
   },
   "outputs": [],
   "source": [
    "# Local Jacobian and connectivity matricies\n",
    "J11, J12, J13, J21, J22, J23, J31, J32, J33 = sy.symbols('J11, J12, J13, J21, J22, J23, J31, J32, J33')\n",
    "J = sy.Matrix([[J11, J12, J13], \n",
    "               [J21, J22, J23], \n",
    "               [J31, J32, J33]])\n",
    "C11, C12, C13, C21, C22, C23, C31, C32, C33 = sy.symbols('C11, C12, C13, C21, C22, C23, C31, C32, C33')\n",
    "C = sy.Matrix([[C11, C12, C13], \n",
    "               [C21, C22, C23], \n",
    "               [C31, C32, C33]])\n",
    "\n",
    "# Laplacian eigenvalue\n",
    "kappa = sy.symbols('kappa')"
   ]
  },
  {
   "cell_type": "code",
   "execution_count": 86,
   "id": "3185ddf6-e635-40c7-867b-1a71ac74be80",
   "metadata": {},
   "outputs": [
    {
     "name": "stdout",
     "output_type": "stream",
     "text": [
      "Rule 1 --------------------------------\n"
     ]
    },
    {
     "data": {
      "text/latex": [
       "$\\displaystyle \\left[\\begin{matrix}- J_{11} & - J_{12} & 0\\\\J_{21} & 0 & - J_{23}\\\\0 & J_{32} & 0\\end{matrix}\\right]$"
      ],
      "text/plain": [
       "Matrix([\n",
       "[-J11, -J12,    0],\n",
       "[ J21,    0, -J23],\n",
       "[   0,  J32,    0]])"
      ]
     },
     "metadata": {},
     "output_type": "display_data"
    },
    {
     "data": {
      "text/latex": [
       "$\\displaystyle \\left[\\begin{matrix}0 & 0 & 0\\\\0 & 0 & 0\\\\0 & 0 & C_{33}\\end{matrix}\\right]$"
      ],
      "text/plain": [
       "Matrix([\n",
       "[0, 0,   0],\n",
       "[0, 0,   0],\n",
       "[0, 0, C33]])"
      ]
     },
     "metadata": {},
     "output_type": "display_data"
    },
    {
     "data": {
      "text/latex": [
       "$\\displaystyle \\left[\\begin{matrix}- J_{11} & - J_{12} & 0\\\\J_{21} & 0 & - J_{23}\\\\0 & J_{32} & C_{33} \\kappa\\end{matrix}\\right]$"
      ],
      "text/plain": [
       "Matrix([\n",
       "[-J11, -J12,         0],\n",
       "[ J21,    0,      -J23],\n",
       "[   0,  J32, C33*kappa]])"
      ]
     },
     "metadata": {},
     "output_type": "display_data"
    },
    {
     "data": {
      "text/latex": [
       "$\\displaystyle \\operatorname{PurePoly}{\\left( \\lambda^{3} + \\left(- C_{33} \\kappa + J_{11}\\right) \\lambda^{2} + \\left(- C_{33} J_{11} \\kappa + J_{12} J_{21} + J_{23} J_{32}\\right) \\lambda -  C_{33} J_{12} J_{21} \\kappa + J_{11} J_{23} J_{32}, \\lambda, domain=\\mathbb{Z}\\left[C_{33}, J_{11}, J_{12}, J_{21}, J_{23}, J_{32}, \\kappa\\right] \\right)}$"
      ],
      "text/plain": [
       "PurePoly(lamda**3 + (-C33*kappa + J11)*lamda**2 + (-C33*J11*kappa + J12*J21 + J23*J32)*lamda - C33*J12*J21*kappa + J11*J23*J32, lamda, domain='ZZ[C33,J11,J12,J21,J23,J32,kappa]')"
      ]
     },
     "metadata": {},
     "output_type": "display_data"
    },
    {
     "data": {
      "text/latex": [
       "$\\displaystyle - C_{33} J_{12} J_{21} \\kappa + J_{11} J_{23} J_{32} - \\left(- C_{33} \\kappa + J_{11}\\right) \\left(- C_{33} J_{11} \\kappa + J_{12} J_{21} + J_{23} J_{32}\\right)$"
      ],
      "text/plain": [
       "-C33*J12*J21*kappa + J11*J23*J32 - (-C33*kappa + J11)*(-C33*J11*kappa + J12*J21 + J23*J32)"
      ]
     },
     "metadata": {},
     "output_type": "display_data"
    },
    {
     "name": "stdout",
     "output_type": "stream",
     "text": [
      "\n",
      "\n",
      "Rule 2 --------------------------------\n"
     ]
    },
    {
     "data": {
      "text/latex": [
       "$\\displaystyle \\left[\\begin{matrix}- J_{11} & - J_{12} & 0\\\\J_{21} & 0 & - J_{23}\\\\0 & J_{32} & 0\\end{matrix}\\right]$"
      ],
      "text/plain": [
       "Matrix([\n",
       "[-J11, -J12,    0],\n",
       "[ J21,    0, -J23],\n",
       "[   0,  J32,    0]])"
      ]
     },
     "metadata": {},
     "output_type": "display_data"
    },
    {
     "data": {
      "text/latex": [
       "$\\displaystyle \\left[\\begin{matrix}0 & 0 & 0\\\\0 & C_{22} & 0\\\\0 & 0 & C_{33}\\end{matrix}\\right]$"
      ],
      "text/plain": [
       "Matrix([\n",
       "[0,   0,   0],\n",
       "[0, C22,   0],\n",
       "[0,   0, C33]])"
      ]
     },
     "metadata": {},
     "output_type": "display_data"
    },
    {
     "data": {
      "text/latex": [
       "$\\displaystyle \\left[\\begin{matrix}- J_{11} & - J_{12} & 0\\\\J_{21} & C_{22} \\kappa & - J_{23}\\\\0 & J_{32} & C_{33} \\kappa\\end{matrix}\\right]$"
      ],
      "text/plain": [
       "Matrix([\n",
       "[-J11,      -J12,         0],\n",
       "[ J21, C22*kappa,      -J23],\n",
       "[   0,       J32, C33*kappa]])"
      ]
     },
     "metadata": {},
     "output_type": "display_data"
    },
    {
     "data": {
      "text/latex": [
       "$\\displaystyle \\operatorname{PurePoly}{\\left( \\lambda^{3} + \\left(- C_{22} \\kappa - C_{33} \\kappa + J_{11}\\right) \\lambda^{2} + \\left(C_{22} C_{33} \\kappa^{2} - C_{22} J_{11} \\kappa - C_{33} J_{11} \\kappa + J_{12} J_{21} + J_{23} J_{32}\\right) \\lambda + C_{22} C_{33} J_{11} \\kappa^{2} - C_{33} J_{12} J_{21} \\kappa + J_{11} J_{23} J_{32}, \\lambda, domain=\\mathbb{Z}\\left[C_{22}, C_{33}, J_{11}, J_{12}, J_{21}, J_{23}, J_{32}, \\kappa\\right] \\right)}$"
      ],
      "text/plain": [
       "PurePoly(lamda**3 + (-C22*kappa - C33*kappa + J11)*lamda**2 + (C22*C33*kappa**2 - C22*J11*kappa - C33*J11*kappa + J12*J21 + J23*J32)*lamda + C22*C33*J11*kappa**2 - C33*J12*J21*kappa + J11*J23*J32, lamda, domain='ZZ[C22,C33,J11,J12,J21,J23,J32,kappa]')"
      ]
     },
     "metadata": {},
     "output_type": "display_data"
    },
    {
     "data": {
      "text/latex": [
       "$\\displaystyle C_{22} C_{33} J_{11} \\kappa^{2} - C_{33} J_{12} J_{21} \\kappa + J_{11} J_{23} J_{32} - \\left(- C_{22} \\kappa - C_{33} \\kappa + J_{11}\\right) \\left(C_{22} C_{33} \\kappa^{2} - C_{22} J_{11} \\kappa - C_{33} J_{11} \\kappa + J_{12} J_{21} + J_{23} J_{32}\\right)$"
      ],
      "text/plain": [
       "C22*C33*J11*kappa**2 - C33*J12*J21*kappa + J11*J23*J32 - (-C22*kappa - C33*kappa + J11)*(C22*C33*kappa**2 - C22*J11*kappa - C33*J11*kappa + J12*J21 + J23*J32)"
      ]
     },
     "metadata": {},
     "output_type": "display_data"
    },
    {
     "name": "stdout",
     "output_type": "stream",
     "text": [
      "\n",
      "\n"
     ]
    }
   ],
   "source": [
    "for rule_i, rules in enumerate(itertools.product(interaction_rules, dispersal_rules)):\n",
    "    print(\"Rule {} --------------------------------\".format(rule_i+1))\n",
    "    J_rule, C_rule = rules\n",
    "    J_constraints = sy.Matrix(J_rule)\n",
    "    J_constrained = J.multiply_elementwise(J_constraints)\n",
    "    display(J_constrained)\n",
    "    \n",
    "    C_constraints = sy.Matrix(C_rule)\n",
    "    C_constrained = C.multiply_elementwise(C_constraints)\n",
    "    display(C_constrained)\n",
    "\n",
    "    # Spatial metacommunity matrix including assumptions\n",
    "    M = J_constrained + kappa * C_constrained\n",
    "    display(M)\n",
    "    \n",
    "    # Characteristic polynomial\n",
    "    lamda = sy.symbols('lamda')\n",
    "    p = M.charpoly(lamda)\n",
    "    p_coeffs = p.all_coeffs()\n",
    "    display(p)\n",
    "    \n",
    "    # Oscillatory instability kappa roots\n",
    "    I_wav = p_coeffs[3] - p_coeffs[1]*p_coeffs[2]\n",
    "    display(I_wav)\n",
    "    kappa_wav = sy.solve(I_wav, kappa, dict=True)\n",
    "    for root in range(len(kappa_wav)):\n",
    "        # display(kappa_wav[root][kappa])\n",
    "        ...\n",
    "\n",
    "    # Stationary instability kappa roots\n",
    "    I_st = p_coeffs[3]\n",
    "    kappa_st = sy.solve(I_st, kappa, dict=True)\n",
    "    for root in range(len(kappa_st)):\n",
    "        # display((kappa_st[root][kappa]))\n",
    "        ...\n",
    "    \n",
    "    print('\\n')"
   ]
  },
  {
   "cell_type": "markdown",
   "id": "7d852943-856d-46e8-989d-40b2e653b83b",
   "metadata": {},
   "source": [
    "### Fully specified model\n",
    "Using ecological model example from Hata 2014"
   ]
  },
  {
   "cell_type": "code",
   "execution_count": 143,
   "id": "1f221e69-d070-4210-8093-ae1f2e383d23",
   "metadata": {
    "tags": []
   },
   "outputs": [],
   "source": [
    "# Define sympy symbols\n",
    "u, w, v = sy.symbols(\"u w v\")\n",
    "a_u, a_v, a_w, b_u, c_u, c_v, d_v, d_w = sy.symbols(\"a_u a_v a_w b_u c_u c_v d_v d_w\")\n",
    "mu, nu = sy.symbols(\"mu, nu\")\n",
    "D_u, D_v, D_w = sy.symbols(\"D_u D_v D_w\")\n",
    "kappa = sy.symbols('kappa')\n",
    "lamda = sy.symbols('lamda')\n",
    "C11, C12, C13, C21, C22, C23, C31, C32, C33 = sy.symbols('C11, C12, C13, C21, C22, C23, C31, C32, C33')\n",
    "\n",
    "# Define nonlinear interaction terms\n",
    "f = (a_u - b_u*u - c_u*(w/(u+mu))) * u\n",
    "g = (a_v*(1 - c_v*(v/u)) - d_v*(w/(v+nu))) * v\n",
    "h = (a_w * (1 - d_w*(w/v))) * w\n",
    "# display(f, g, h)\n",
    "\n",
    "# Define parameter values\n",
    "param_vals = [(a_u,3), (a_v,6), (a_w,4), \n",
    "              (b_u,1), (c_u,1), (c_v,1), \n",
    "              (d_v,1), (d_w,0.25),\n",
    "              (mu,0.25), (nu,0.25)]\n",
    "\n",
    "# Solve for the uniform steady state\n",
    "'''I get a different steady from the paper'''\n",
    "eq_vec = (sy.Eq(f.subs(param_vals),0), \n",
    "          sy.Eq(g.subs(param_vals),0), \n",
    "          sy.Eq(h.subs(param_vals),0))\n",
    "var_vec = (u, v, w)\n",
    "x0 = (1, 2.5, 10.2)\n",
    "u_0, v_0, w_0 = sy.nsolve(eq_vec, var_vec, x0)\n",
    "\n",
    "# Construct M matrix\n",
    "J = sy.Matrix([[sy.diff(f, u), sy.diff(f, v), sy.diff(f, w)],\n",
    "               [sy.diff(g, u), sy.diff(g, v), sy.diff(g, w)],\n",
    "               [sy.diff(h, u), sy.diff(h, v), sy.diff(h, w)]])\n",
    "J_sub = M.subs(param_vals)\n",
    "C = sy.Matrix([[0, 0, 0], \n",
    "               [0, C22, 0], \n",
    "               [0, 0, C33]])\n",
    "M = J + kappa*C\n",
    "M_sub = M.subs(param_vals + [(u, u_0), (v, v_0), (w, w_0)])\n",
    "\n",
    "# Characteristic polynomial\n",
    "p = M_sub.charpoly(lamda)\n",
    "p_coeffs = p.all_coeffs()\n",
    "\n",
    "# Oscillatory and stationary instability conditions\n",
    "I_wav = p_coeffs[3] - p_coeffs[1]*p_coeffs[2]\n",
    "I_st = p_coeffs[3]\n",
    "\n",
    "# Generate instability surface\n",
    "'''For now, assume 2D'''\n",
    "C_k = []\n",
    "for i in range(C.shape[0]):\n",
    "    for j in range(C.shape[0]):\n",
    "        if C[i,j] != 0:\n",
    "            C_k.append(C[i,j])\n",
    "# Search for kappa_c over 'angles' in spatially dependent sub-space of M\n",
    "for pi_frac in np.linspace(0, 2, 10, endpoint=False):\n",
    "    # Solve for nonzero C elements assuming unit vector at angle theta\n",
    "    theta = pi_frac * sy.pi\n",
    "    eq_vec = (sy.Eq(C_k[0]/sy.sqrt(C_k[0]**2 + C_k[1]**2), sy.cos(theta)),\n",
    "              sy.Eq(C_k[1]/sy.sqrt(C_k[0]**2 + C_k[1]**2), sy.sin(theta)))\n",
    "    var_vec = (C_k[0], C_k[1])\n",
    "    sol = sy.solve(eq_vec, var_vec)"
   ]
  },
  {
   "cell_type": "code",
   "execution_count": 150,
   "id": "1102b106-2d56-42fe-a76b-f7c4e5768d07",
   "metadata": {},
   "outputs": [
    {
     "data": {
      "text/latex": [
       "$\\displaystyle \\left[\\begin{matrix}0.5\\\\0\\end{matrix}\\right]$"
      ],
      "text/plain": [
       "Matrix([\n",
       "[0.5],\n",
       "[  0]])"
      ]
     },
     "execution_count": 150,
     "metadata": {},
     "output_type": "execute_result"
    }
   ],
   "source": [
    "pi_frac = 0\n",
    "theta = pi_frac * sy.pi\n",
    "eq_vec = (sy.Eq(C_k[0]/sy.sqrt(C_k[0]**2 + C_k[1]**2), sy.cos(theta)),\n",
    "          sy.Eq(C_k[1]/sy.sqrt(C_k[0]**2 + C_k[1]**2), sy.sin(theta)))\n",
    "var_vec = (C_k[0], C_k[1])\n",
    "sol = sy.nsolve(eq_vec, var_vec, (0.5,0)) #???\n",
    "sol"
   ]
  },
  {
   "cell_type": "code",
   "execution_count": 134,
   "id": "c17d6204-4e28-489d-b2fc-87bf5e78ecdc",
   "metadata": {},
   "outputs": [
    {
     "data": {
      "text/latex": [
       "$\\displaystyle \\frac{C_{22}}{\\sqrt{C_{22}^{2} + C_{33}^{2}}} = \\cos{\\left(1.8 \\pi \\right)}$"
      ],
      "text/plain": [
       "Eq(C22/sqrt(C22**2 + C33**2), cos(1.8*pi))"
      ]
     },
     "execution_count": 134,
     "metadata": {},
     "output_type": "execute_result"
    }
   ],
   "source": [
    "eq_vec[0]"
   ]
  },
  {
   "cell_type": "code",
   "execution_count": 135,
   "id": "1cfeba42-e65a-4173-99f5-2192e46c9d76",
   "metadata": {},
   "outputs": [
    {
     "data": {
      "text/latex": [
       "$\\displaystyle \\frac{C_{33}}{\\sqrt{C_{22}^{2} + C_{33}^{2}}} = \\sin{\\left(1.8 \\pi \\right)}$"
      ],
      "text/plain": [
       "Eq(C33/sqrt(C22**2 + C33**2), sin(1.8*pi))"
      ]
     },
     "execution_count": 135,
     "metadata": {},
     "output_type": "execute_result"
    }
   ],
   "source": [
    "eq_vec[1]"
   ]
  }
 ],
 "metadata": {
  "kernelspec": {
   "display_name": "Python 3 (ipykernel)",
   "language": "python",
   "name": "python3"
  },
  "language_info": {
   "codemirror_mode": {
    "name": "ipython",
    "version": 3
   },
   "file_extension": ".py",
   "mimetype": "text/x-python",
   "name": "python",
   "nbconvert_exporter": "python",
   "pygments_lexer": "ipython3",
   "version": "3.10.9"
  }
 },
 "nbformat": 4,
 "nbformat_minor": 5
}
