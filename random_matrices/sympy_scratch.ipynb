{
 "cells": [
  {
   "cell_type": "code",
   "execution_count": 1,
   "id": "f0e27944-b826-478f-af30-733c58310273",
   "metadata": {},
   "outputs": [],
   "source": [
    "import numpy as np\n",
    "import sympy as sy\n",
    "from IPython.display import display\n",
    "import itertools\n",
    "from matplotlib import pyplot as plt"
   ]
  },
  {
   "cell_type": "code",
   "execution_count": null,
   "id": "bf561ae5-7b1c-4ff0-af56-543b8137523c",
   "metadata": {
    "tags": []
   },
   "outputs": [],
   "source": [
    "interaction_rules = np.array([\n",
    "                            # Chain motif\n",
    "                            [[-1, -1, 0], [1, 0, -1], [0, 1, 0]]\n",
    "                            ])\n",
    "dispersal_rules = np.array([\n",
    "                            # Only top predator disperses in response to self density\n",
    "                            [[0, 0, 0], [0, 0, 0], [0, 0, 1]],\n",
    "                            # Top & middle predators disperse in response to self density\n",
    "                            [[0, 0, 0], [0, 1, 0], [0, 0, 1]]\n",
    "                            ])\n",
    "\n",
    "# Local Jacobian and connectivity matricies\n",
    "J11, J12, J13, J21, J22, J23, J31, J32, J33 = sy.symbols('J11, J12, J13, J21, J22, J23, J31, J32, J33')\n",
    "J = sy.Matrix([[J11, J12, J13], \n",
    "               [J21, J22, J23], \n",
    "               [J31, J32, J33]])\n",
    "C11, C12, C13, C21, C22, C23, C31, C32, C33 = sy.symbols('C11, C12, C13, C21, C22, C23, C31, C32, C33')\n",
    "C = sy.Matrix([[C11, C12, C13], \n",
    "               [C21, C22, C23], \n",
    "               [C31, C32, C33]])\n",
    "\n",
    "# Laplacian eigenvalue\n",
    "kappa = sy.symbols('kappa')"
   ]
  },
  {
   "cell_type": "code",
   "execution_count": null,
   "id": "3185ddf6-e635-40c7-867b-1a71ac74be80",
   "metadata": {},
   "outputs": [],
   "source": [
    "for rule_i, rules in enumerate(itertools.product(interaction_rules, dispersal_rules)):\n",
    "    # print(\"Rule {} --------------------------------\".format(rule_i+1))\n",
    "    J_rule, C_rule = rules\n",
    "    J_constraints = sy.Matrix(J_rule)\n",
    "    J_constrained = J.multiply_elementwise(J_constraints)\n",
    "    # display(J_constrained)\n",
    "    \n",
    "    C_constraints = sy.Matrix(C_rule)\n",
    "    C_constrained = C.multiply_elementwise(C_constraints)\n",
    "    # display(C_constrained)\n",
    "\n",
    "    # Spatial metacommunity matrix including assumptions\n",
    "    M = J_constrained + kappa * C_constrained\n",
    "    # display(M)\n",
    "    \n",
    "    # Characteristic polynomial\n",
    "    lamda = sy.symbols('lamda')\n",
    "    p = M.charpoly(lamda)\n",
    "    p_coeffs = p.all_coeffs()\n",
    "    # display(p)\n",
    "    \n",
    "    # Oscillatory instability kappa roots\n",
    "    I_wav = p_coeffs[3] - p_coeffs[1]*p_coeffs[2]\n",
    "    # display(I_wav)\n",
    "    kappa_wav = sy.solve(I_wav, kappa, dict=True)\n",
    "    for root in range(len(kappa_wav)):\n",
    "        # display(kappa_wav[root][kappa])\n",
    "        ...\n",
    "\n",
    "    # Stationary instability kappa roots\n",
    "    I_st = p_coeffs[3]\n",
    "    kappa_st = sy.solve(I_st, kappa, dict=True)\n",
    "    for root in range(len(kappa_st)):\n",
    "        # display((kappa_st[root][kappa]))\n",
    "        ...\n",
    "    \n",
    "    print('\\n')"
   ]
  },
  {
   "cell_type": "markdown",
   "id": "7d852943-856d-46e8-989d-40b2e653b83b",
   "metadata": {},
   "source": [
    "## Fully specified model\n",
    "Using ecological model example from Hata 2014"
   ]
  },
  {
   "cell_type": "code",
   "execution_count": 2,
   "id": "1f221e69-d070-4210-8093-ae1f2e383d23",
   "metadata": {
    "tags": []
   },
   "outputs": [],
   "source": [
    "# Define sympy symbols\n",
    "u, w, v = sy.symbols(\"u w v\")\n",
    "a_u, a_v, a_w, b_u, c_u, c_v, d_v, d_w = sy.symbols(\"a_u a_v a_w b_u c_u c_v d_v d_w\")\n",
    "mu, nu = sy.symbols(\"mu, nu\")\n",
    "D_u, D_v, D_w = sy.symbols(\"D_u D_v D_w\")\n",
    "kappa = sy.symbols('kappa')\n",
    "lamda = sy.symbols('lamda')\n",
    "C11, C12, C13, C21, C22, C23, C31, C32, C33 = sy.symbols('C11, C12, C13, C21, C22, C23, C31, C32, C33')\n",
    "\n",
    "# Define nonlinear interaction terms\n",
    "f = (a_u - b_u*u - c_u*(w/(u+mu))) * u\n",
    "g = (a_v*(1 - c_v*(v/u)) - d_v*(w/(v+nu))) * v\n",
    "h = (a_w * (1 - d_w*(w/v))) * w\n",
    "# display(f, g, h)\n",
    "\n",
    "# Define parameter values\n",
    "param_vals = [(a_u,3), (a_v,6), (a_w,4), \n",
    "              (b_u,1), (c_u,1), (c_v,1), \n",
    "              (d_v,1), (d_w,0.25),\n",
    "              (mu,0.25), (nu,0.25)]\n",
    "\n",
    "# Solve for the uniform steady state\n",
    "'''I get a different steady from the paper'''\n",
    "eq_vec = (sy.Eq(f.subs(param_vals),0), \n",
    "          sy.Eq(g.subs(param_vals),0), \n",
    "          sy.Eq(h.subs(param_vals),0))\n",
    "var_vec = (u, v, w)\n",
    "x0 = (1, 2.5, 10.2)\n",
    "u_0, v_0, w_0 = sy.nsolve(eq_vec, var_vec, x0)\n",
    "\n",
    "# Construct M matrix\n",
    "J = sy.Matrix([[sy.diff(f, u), sy.diff(f, v), sy.diff(f, w)],\n",
    "               [sy.diff(g, u), sy.diff(g, v), sy.diff(g, w)],\n",
    "               [sy.diff(h, u), sy.diff(h, v), sy.diff(h, w)]])\n",
    "J_sub = J.subs(param_vals)\n",
    "C = sy.Matrix([[0, 0, 0], \n",
    "               [0, C22, 0], \n",
    "               [0, 0, C33]])\n",
    "M = J + kappa*C\n",
    "M_sub = M.subs(param_vals + [(u, u_0), (v, v_0), (w, w_0)])\n",
    "\n",
    "# Characteristic polynomial\n",
    "p = M_sub.charpoly(lamda)\n",
    "p_coeffs = p.all_coeffs()\n",
    "\n",
    "# Oscillatory and stationary instability conditions\n",
    "I_wav = p_coeffs[3] - p_coeffs[1]*p_coeffs[2]\n",
    "kappa_wav = sy.solve(I_wav, kappa)\n",
    "I_st = p_coeffs[3]\n",
    "kappa_st = sy.solve(I_st, kappa)\n",
    "\n",
    "# Generate instability surface\n",
    "'''For now, assume 2D'''\n",
    "C_k = []\n",
    "M_sub_k = []\n",
    "J_sub_k = []\n",
    "for i in range(C.shape[0]):\n",
    "    for j in range(C.shape[0]):\n",
    "        if C[i,j] != 0:\n",
    "            C_k.append(C[i,j])\n",
    "            M_sub_k.append(M_sub[i,j])\n",
    "            J_sub_k.append(J_sub[i,j].subs([(u, u_0), (v, v_0), (w, w_0)]))"
   ]
  },
  {
   "cell_type": "code",
   "execution_count": 3,
   "id": "df501be2-2969-47f6-86dc-6805ffb04fad",
   "metadata": {},
   "outputs": [],
   "source": [
    "# Search for kappa_c over 'directions' in spatially dependent sub-space of M\n",
    "num_samples = 10\n",
    "disp1 = np.linspace(-10,10, num_samples, endpoint=False)\n",
    "disp2 = np.linspace(-10,10, num_samples, endpoint=False)\n",
    "roots = {C_k[0]: [], C_k[1]: [], 'roots': []}\n",
    "for C_x, C_y in itertools.product(disp1, disp2):\n",
    "    roots[C_k[0]].append(C_x)\n",
    "    roots[C_k[1]].append(C_y)\n",
    "    roots_k = []\n",
    "    for root in kappa_wav:\n",
    "        sol = root.subs([(C_k[0], C_x), (C_k[1], C_y)])\n",
    "        if sol.is_real and (sol > 0):\n",
    "            roots_k.append(sol)\n",
    "    roots['roots'].append(roots_k)"
   ]
  },
  {
   "cell_type": "code",
   "execution_count": 4,
   "id": "12f01d99-bc2e-4fda-8f58-d93c0034f401",
   "metadata": {},
   "outputs": [
    {
     "data": {
      "image/png": "[encoded data removed]",
      "text/plain": [
       "<Figure size 500x500 with 1 Axes>"
      ]
     },
     "metadata": {},
     "output_type": "display_data"
    }
   ],
   "source": [
    "# Scatter plot each real, positive kappa_c in M sub-space\n",
    "plt.figure(figsize=(5,5))\n",
    "plt.scatter(J_sub_k[0], J_sub_k[1], c='orange')\n",
    "for i in range(len(disp1)*len(disp2)):\n",
    "    C_x = roots[C_k[0]][i]\n",
    "    C_y = roots[C_k[1]][i]\n",
    "    for root in roots['roots'][i]:\n",
    "        param_vals = [(C_k[0], C_x), (C_k[1], C_y), (kappa, root)]\n",
    "        x = M_sub_k[0].subs(param_vals)\n",
    "        y = M_sub_k[1].subs(param_vals)\n",
    "        plt.scatter(x,y, c='k')"
   ]
  },
  {
   "cell_type": "code",
   "execution_count": 5,
   "id": "02787ecb-b1a4-475c-896e-9607047ec22a",
   "metadata": {},
   "outputs": [],
   "source": [
    "# Search for kappa_c over 'angles' in spatially dependent sub-space of M\n",
    "'''Slow for now bc using sympy, but can speed up using numpy instead'''\n",
    "num_samples = 20\n",
    "C_y_magnitude = 1\n",
    "roots = {C_k[0]: [], C_k[1]: [], 'roots': []}\n",
    "count = 0\n",
    "for C_y_dir, theta_rng in zip([1, -1], [(0,1), (1,2)]):\n",
    "    fracs = np.linspace(theta_rng[0], theta_rng[1], int(num_samples/2), endpoint=False)\n",
    "    theta_vec = [frac*sy.pi for frac in fracs]\n",
    "    for theta in theta_vec:\n",
    "        C_y = C_y_magnitude * C_y_dir\n",
    "        if (theta==0.5*sy.pi) or (theta==1.5*sy.pi):\n",
    "            roots[C_k[0]].append(0)\n",
    "            roots[C_k[1]].append(C_y)\n",
    "        elif theta==0:\n",
    "            roots[C_k[0]].append(1)\n",
    "            roots[C_k[1]].append(0)\n",
    "        elif theta==1.0*sy.pi:\n",
    "            roots[C_k[0]].append(-1)\n",
    "            roots[C_k[1]].append(0)\n",
    "        else:\n",
    "            C_x = C_k[1] * sy.sqrt((1/sy.sin(theta)) - 1)\n",
    "            roots[C_k[0]].append(C_x.subs([(C_k[1], C_y)]))\n",
    "            roots[C_k[1]].append(C_y)\n",
    "        roots_k = []\n",
    "        count += 1\n",
    "        for root in kappa_wav:\n",
    "            sol = root.subs([(C_k[0], C_x), (C_k[1], C_y)])\n",
    "            if sol.is_real and (sol > 0):\n",
    "                roots_k.append(sol)\n",
    "        roots['roots'].append(roots_k)"
   ]
  },
  {
   "cell_type": "code",
   "execution_count": 6,
   "id": "4d4cc88f-8e83-46d3-b890-b0c5430e34aa",
   "metadata": {},
   "outputs": [
    {
     "data": {
      "image/png": "[encoded data removed]",
      "text/plain": [
       "<Figure size 500x500 with 1 Axes>"
      ]
     },
     "metadata": {},
     "output_type": "display_data"
    }
   ],
   "source": [
    "# Scatter plot each real, positive kappa_c in M sub-space\n",
    "plt.figure(figsize=(5,5))\n",
    "plt.scatter(J_sub_k[0], J_sub_k[1], c='orange')\n",
    "for i in range(len(roots['roots'])):\n",
    "    C_x = roots[C_k[0]][i]\n",
    "    C_y = roots[C_k[1]][i]\n",
    "    for root in roots['roots'][i]:\n",
    "        param_vals = [(C_k[0], C_x), (C_k[1], C_y), (kappa, root)]\n",
    "        x = M_sub_k[0].subs(param_vals)\n",
    "        y = M_sub_k[1].subs(param_vals)\n",
    "        plt.scatter(x,y, c='k')"
   ]
  },
  {
   "cell_type": "code",
   "execution_count": null,
   "id": "fb6f9754-1aa1-42e2-940e-a13974eaf793",
   "metadata": {},
   "outputs": [],
   "source": []
  }
 ],
 "metadata": {
  "kernelspec": {
   "display_name": "Python 3 (ipykernel)",
   "language": "python",
   "name": "python3"
  },
  "language_info": {
   "codemirror_mode": {
    "name": "ipython",
    "version": 3
   },
   "file_extension": ".py",
   "mimetype": "text/x-python",
   "name": "python",
   "nbconvert_exporter": "python",
   "pygments_lexer": "ipython3",
   "version": "3.10.9"
  }
 },
 "nbformat": 4,
 "nbformat_minor": 5
}
